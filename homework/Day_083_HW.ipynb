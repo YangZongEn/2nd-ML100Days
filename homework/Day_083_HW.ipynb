{
 "cells": [
  {
   "cell_type": "markdown",
   "metadata": {},
   "source": [
    "## Work\n",
    "1. 試比較有 BN 在 Batch_size = 2, 16, 32, 128, 256 下的差異\n",
    "2. 請嘗試將 BN 放在 Activation 之前，並比較訓練結果\n",
    "3. 請於 BN 放在 Input Layer 後，並比較結果"
   ]
  },
  {
   "cell_type": "markdown",
   "metadata": {},
   "source": [
    "<pre>\n",
    "\n",
    "知乎 - BatchNorm 的原理與實戰\n",
    "\n",
    "\n",
    "背景：\n",
    "         為什麼神經網路這麼不穩定 → 神經網路各層間的映射頻繁的變換 (Internal Covariate Shift)\n",
    "\n",
    "Internal Covariate Shift 的問題\n",
    "網路在初期需要透過不斷大幅調整來適應輸入的分布變化\n",
    "深層網路的梯度消失/爆炸問題使分布更加不穩\n",
    "解法\n",
    "         在各層網路中的各特徵軸 (channel) 單獨進行標準化，使其變為分布平均為 0, 變異數為 1 的分布，再加上\n",
    "\n",
    "         平移與縮放，就可以表示原本的分布。\n",
    "</pre>\n",
    "\n",
    "\n",
    "\n",
    "參考連結：\n",
    "\n",
    "1. [為何要使用 Batch Normalization – 莫煩 python](https://morvanzhou.github.io/tutorials/machine-learning/ML-intro/3-08-batch-normalization/)\n",
    "2. [Batch normalization 原理與實戰 – 知乎](https://zhuanlan.zhihu.com/p/34879333)"
   ]
  },
  {
   "cell_type": "code",
   "execution_count": 1,
   "metadata": {},
   "outputs": [
    {
     "name": "stderr",
     "output_type": "stream",
     "text": [
      "/home/alison/anaconda3/lib/python3.6/site-packages/h5py/__init__.py:36: FutureWarning: Conversion of the second argument of issubdtype from `float` to `np.floating` is deprecated. In future, it will be treated as `np.float64 == np.dtype(float).type`.\n",
      "  from ._conv import register_converters as _register_converters\n",
      "Using TensorFlow backend.\n"
     ]
    }
   ],
   "source": [
    "import os\n",
    "import keras\n",
    "import itertools\n",
    "# Disable GPU\n",
    "os.environ[\"CUDA_VISIBLE_DEVICES\"] = \"\""
   ]
  },
  {
   "cell_type": "code",
   "execution_count": 2,
   "metadata": {
    "collapsed": true
   },
   "outputs": [],
   "source": [
    "train, test = keras.datasets.cifar10.load_data()"
   ]
  },
  {
   "cell_type": "code",
   "execution_count": 3,
   "metadata": {
    "collapsed": true
   },
   "outputs": [],
   "source": [
    "## 資料前處理\n",
    "def preproc_x(x, flatten=True):\n",
    "    x = x / 255.\n",
    "    if flatten:\n",
    "        x = x.reshape((len(x), -1))\n",
    "    return x\n",
    "\n",
    "def preproc_y(y, num_classes=10):\n",
    "    if y.shape[-1] == 1:\n",
    "        y = keras.utils.to_categorical(y, num_classes)\n",
    "    return y    "
   ]
  },
  {
   "cell_type": "code",
   "execution_count": 4,
   "metadata": {
    "collapsed": true
   },
   "outputs": [],
   "source": [
    "x_train, y_train = train\n",
    "x_test, y_test = test\n",
    "\n",
    "# Preproc the inputs\n",
    "x_train = preproc_x(x_train)\n",
    "x_test = preproc_x(x_test)\n",
    "\n",
    "# Preprc the outputs\n",
    "y_train = preproc_y(y_train)\n",
    "y_test = preproc_y(y_test)"
   ]
  },
  {
   "cell_type": "code",
   "execution_count": 5,
   "metadata": {
    "collapsed": true
   },
   "outputs": [],
   "source": [
    "from keras.layers import BatchNormalization\n",
    "\n",
    "def build_mlp(input_shape, output_units=10, num_neurons=[512, 256, 128]):\n",
    "    \"\"\"Code Here\n",
    "    建立你的神經網路\n",
    "    \"\"\"\n",
    "    \n",
    "    input_layer = keras.layers.Input(input_shape)\n",
    "    \n",
    "    for i, n_units in enumerate(num_neurons):\n",
    "        if i == 0:\n",
    "            x = keras.layers.Dense(units=n_units, \n",
    "                                   activation=\"relu\", \n",
    "                                   name=\"hidden_layer\"+str(i+1))(input_layer)\n",
    "        else:\n",
    "            x = keras.layers.Dense(units=n_units, \n",
    "                                   activation=\"relu\", \n",
    "                                   name=\"hidden_layer\"+str(i+1))(x)\n",
    "        x = BatchNormalization()(x)\n",
    "    \n",
    "    out = keras.layers.Dense(units=output_units, activation=\"softmax\", name=\"output\")(x)\n",
    "    \n",
    "    model = keras.models.Model(inputs=[input_layer], outputs=[out])\n",
    "    return model"
   ]
  },
  {
   "cell_type": "code",
   "execution_count": 6,
   "metadata": {
    "collapsed": true
   },
   "outputs": [],
   "source": [
    "\"\"\"Code Here\n",
    "設定超參數\n",
    "\"\"\"\n",
    "LEARNING_RATE = 1e-3\n",
    "EPOCHS = 50\n",
    "BATCH_SIZE = 256\n",
    "MOMENTUM = 0.95"
   ]
  },
  {
   "cell_type": "code",
   "execution_count": 7,
   "metadata": {
    "scrolled": true
   },
   "outputs": [
    {
     "name": "stdout",
     "output_type": "stream",
     "text": [
      "_________________________________________________________________\n",
      "Layer (type)                 Output Shape              Param #   \n",
      "=================================================================\n",
      "input_1 (InputLayer)         (None, 3072)              0         \n",
      "_________________________________________________________________\n",
      "hidden_layer1 (Dense)        (None, 512)               1573376   \n",
      "_________________________________________________________________\n",
      "batch_normalization_1 (Batch (None, 512)               2048      \n",
      "_________________________________________________________________\n",
      "hidden_layer2 (Dense)        (None, 256)               131328    \n",
      "_________________________________________________________________\n",
      "batch_normalization_2 (Batch (None, 256)               1024      \n",
      "_________________________________________________________________\n",
      "hidden_layer3 (Dense)        (None, 128)               32896     \n",
      "_________________________________________________________________\n",
      "batch_normalization_3 (Batch (None, 128)               512       \n",
      "_________________________________________________________________\n",
      "output (Dense)               (None, 10)                1290      \n",
      "=================================================================\n",
      "Total params: 1,742,474\n",
      "Trainable params: 1,740,682\n",
      "Non-trainable params: 1,792\n",
      "_________________________________________________________________\n",
      "Train on 50000 samples, validate on 10000 samples\n",
      "Epoch 1/50\n",
      "50000/50000 [==============================] - 8s 155us/step - loss: 1.8589 - acc: 0.3605 - val_loss: 1.7383 - val_acc: 0.3952\n",
      "Epoch 2/50\n",
      "50000/50000 [==============================] - 7s 145us/step - loss: 1.5386 - acc: 0.4601 - val_loss: 1.6017 - val_acc: 0.4440\n",
      "Epoch 3/50\n",
      "50000/50000 [==============================] - 7s 146us/step - loss: 1.4372 - acc: 0.4950 - val_loss: 1.5685 - val_acc: 0.4501\n",
      "Epoch 4/50\n",
      "50000/50000 [==============================] - 7s 141us/step - loss: 1.3674 - acc: 0.5228 - val_loss: 1.4973 - val_acc: 0.4682\n",
      "Epoch 5/50\n",
      "50000/50000 [==============================] - 7s 144us/step - loss: 1.3050 - acc: 0.5421 - val_loss: 1.6535 - val_acc: 0.4375\n",
      "Epoch 6/50\n",
      "50000/50000 [==============================] - 7s 144us/step - loss: 1.2547 - acc: 0.5636 - val_loss: 1.5123 - val_acc: 0.4670\n",
      "Epoch 7/50\n",
      "50000/50000 [==============================] - 7s 147us/step - loss: 1.2059 - acc: 0.5807 - val_loss: 1.4887 - val_acc: 0.4783\n",
      "Epoch 8/50\n",
      "50000/50000 [==============================] - 8s 152us/step - loss: 1.1611 - acc: 0.5951 - val_loss: 1.5203 - val_acc: 0.4627\n",
      "Epoch 9/50\n",
      "50000/50000 [==============================] - 7s 146us/step - loss: 1.1189 - acc: 0.6107 - val_loss: 1.4797 - val_acc: 0.4865\n",
      "Epoch 10/50\n",
      "50000/50000 [==============================] - 7s 145us/step - loss: 1.0804 - acc: 0.6231 - val_loss: 1.5997 - val_acc: 0.4457\n",
      "Epoch 11/50\n",
      "50000/50000 [==============================] - 8s 152us/step - loss: 1.0436 - acc: 0.6370 - val_loss: 1.4596 - val_acc: 0.4923\n",
      "Epoch 12/50\n",
      "50000/50000 [==============================] - 7s 138us/step - loss: 1.0032 - acc: 0.6512 - val_loss: 1.5019 - val_acc: 0.4733\n",
      "Epoch 13/50\n",
      "50000/50000 [==============================] - 8s 153us/step - loss: 0.9713 - acc: 0.6638 - val_loss: 1.5247 - val_acc: 0.4772\n",
      "Epoch 14/50\n",
      "50000/50000 [==============================] - 7s 146us/step - loss: 0.9416 - acc: 0.6734 - val_loss: 1.5264 - val_acc: 0.4864\n",
      "Epoch 15/50\n",
      "50000/50000 [==============================] - 7s 148us/step - loss: 0.9019 - acc: 0.6887 - val_loss: 1.5117 - val_acc: 0.4938\n",
      "Epoch 16/50\n",
      "50000/50000 [==============================] - 8s 157us/step - loss: 0.8716 - acc: 0.7003 - val_loss: 1.5394 - val_acc: 0.4879\n",
      "Epoch 17/50\n",
      "50000/50000 [==============================] - 8s 150us/step - loss: 0.8400 - acc: 0.7128 - val_loss: 1.6506 - val_acc: 0.4656\n",
      "Epoch 18/50\n",
      "50000/50000 [==============================] - 8s 161us/step - loss: 0.8050 - acc: 0.7238 - val_loss: 1.5780 - val_acc: 0.4852\n",
      "Epoch 19/50\n",
      "50000/50000 [==============================] - 7s 147us/step - loss: 0.7751 - acc: 0.7367 - val_loss: 1.5947 - val_acc: 0.4841\n",
      "Epoch 20/50\n",
      "50000/50000 [==============================] - 7s 146us/step - loss: 0.7425 - acc: 0.7478 - val_loss: 1.5615 - val_acc: 0.4875\n",
      "Epoch 21/50\n",
      "50000/50000 [==============================] - 7s 145us/step - loss: 0.7130 - acc: 0.7584 - val_loss: 1.6365 - val_acc: 0.4871\n",
      "Epoch 22/50\n",
      "50000/50000 [==============================] - 7s 147us/step - loss: 0.6842 - acc: 0.7706 - val_loss: 1.6830 - val_acc: 0.4771\n",
      "Epoch 23/50\n",
      "50000/50000 [==============================] - 8s 151us/step - loss: 0.6535 - acc: 0.7801 - val_loss: 1.6679 - val_acc: 0.4802\n",
      "Epoch 24/50\n",
      "50000/50000 [==============================] - 7s 146us/step - loss: 0.6288 - acc: 0.7875 - val_loss: 1.8342 - val_acc: 0.4638\n",
      "Epoch 25/50\n",
      "50000/50000 [==============================] - 7s 144us/step - loss: 0.6002 - acc: 0.8015 - val_loss: 2.0412 - val_acc: 0.4347\n",
      "Epoch 26/50\n",
      "50000/50000 [==============================] - 7s 148us/step - loss: 0.5733 - acc: 0.8109 - val_loss: 1.8582 - val_acc: 0.4646\n",
      "Epoch 27/50\n",
      "50000/50000 [==============================] - 8s 155us/step - loss: 0.5485 - acc: 0.8178 - val_loss: 1.8170 - val_acc: 0.4685\n",
      "Epoch 28/50\n",
      "50000/50000 [==============================] - 7s 139us/step - loss: 0.5226 - acc: 0.8290 - val_loss: 1.8250 - val_acc: 0.4764\n",
      "Epoch 29/50\n",
      "50000/50000 [==============================] - 7s 147us/step - loss: 0.4970 - acc: 0.8390 - val_loss: 1.9013 - val_acc: 0.4573\n",
      "Epoch 30/50\n",
      "50000/50000 [==============================] - 7s 150us/step - loss: 0.4730 - acc: 0.8476 - val_loss: 1.8592 - val_acc: 0.4752\n",
      "Epoch 31/50\n",
      "50000/50000 [==============================] - 7s 143us/step - loss: 0.4523 - acc: 0.8534 - val_loss: 1.8739 - val_acc: 0.4817\n",
      "Epoch 32/50\n",
      "50000/50000 [==============================] - 8s 150us/step - loss: 0.4290 - acc: 0.8627 - val_loss: 1.9455 - val_acc: 0.4732\n",
      "Epoch 33/50\n",
      "50000/50000 [==============================] - 7s 146us/step - loss: 0.4083 - acc: 0.8705 - val_loss: 2.0330 - val_acc: 0.4618\n",
      "Epoch 34/50\n",
      "50000/50000 [==============================] - 8s 151us/step - loss: 0.3845 - acc: 0.8786 - val_loss: 1.9840 - val_acc: 0.4812\n",
      "Epoch 35/50\n",
      "50000/50000 [==============================] - 7s 146us/step - loss: 0.3717 - acc: 0.8824 - val_loss: 2.1213 - val_acc: 0.4698\n",
      "Epoch 36/50\n",
      "50000/50000 [==============================] - 7s 138us/step - loss: 0.3536 - acc: 0.8883 - val_loss: 2.0500 - val_acc: 0.4631\n",
      "Epoch 37/50\n",
      "50000/50000 [==============================] - 8s 153us/step - loss: 0.3400 - acc: 0.8942 - val_loss: 2.2077 - val_acc: 0.4565\n",
      "Epoch 38/50\n",
      "50000/50000 [==============================] - 7s 149us/step - loss: 0.3188 - acc: 0.9011 - val_loss: 2.2229 - val_acc: 0.4565\n",
      "Epoch 39/50\n",
      "50000/50000 [==============================] - 7s 139us/step - loss: 0.3017 - acc: 0.9076 - val_loss: 2.2025 - val_acc: 0.4728\n",
      "Epoch 40/50\n",
      "50000/50000 [==============================] - 8s 153us/step - loss: 0.2859 - acc: 0.9127 - val_loss: 2.2004 - val_acc: 0.4765\n",
      "Epoch 41/50\n",
      "50000/50000 [==============================] - 7s 146us/step - loss: 0.2677 - acc: 0.9214 - val_loss: 2.2144 - val_acc: 0.4790\n",
      "Epoch 42/50\n",
      "50000/50000 [==============================] - 7s 142us/step - loss: 0.2559 - acc: 0.9245 - val_loss: 2.2189 - val_acc: 0.4792\n",
      "Epoch 43/50\n",
      "50000/50000 [==============================] - 7s 145us/step - loss: 0.2477 - acc: 0.9272 - val_loss: 2.3156 - val_acc: 0.4746\n",
      "Epoch 44/50\n",
      "50000/50000 [==============================] - 7s 139us/step - loss: 0.2312 - acc: 0.9315 - val_loss: 2.2966 - val_acc: 0.4758\n",
      "Epoch 45/50\n",
      "50000/50000 [==============================] - 7s 146us/step - loss: 0.2195 - acc: 0.9353 - val_loss: 2.4106 - val_acc: 0.4566\n",
      "Epoch 46/50\n",
      "50000/50000 [==============================] - 7s 149us/step - loss: 0.2033 - acc: 0.9422 - val_loss: 2.2897 - val_acc: 0.4764\n",
      "Epoch 47/50\n",
      "50000/50000 [==============================] - 7s 143us/step - loss: 0.1922 - acc: 0.9460 - val_loss: 2.4732 - val_acc: 0.4629\n",
      "Epoch 48/50\n",
      "50000/50000 [==============================] - 8s 150us/step - loss: 0.1777 - acc: 0.9509 - val_loss: 2.3239 - val_acc: 0.4783\n",
      "Epoch 49/50\n"
     ]
    },
    {
     "name": "stdout",
     "output_type": "stream",
     "text": [
      "50000/50000 [==============================] - 7s 148us/step - loss: 0.1681 - acc: 0.9545 - val_loss: 2.4749 - val_acc: 0.4670\n",
      "Epoch 50/50\n",
      "50000/50000 [==============================] - 7s 134us/step - loss: 0.1675 - acc: 0.9539 - val_loss: 2.5575 - val_acc: 0.4523\n"
     ]
    }
   ],
   "source": [
    "results = {}\n",
    "\"\"\"Code Here\n",
    "撰寫你的訓練流程並將結果用 dictionary 紀錄\n",
    "\"\"\"\n",
    "\n",
    "model = build_mlp(input_shape=x_train.shape[1:])\n",
    "model.summary()\n",
    "optimizer = keras.optimizers.SGD(lr=LEARNING_RATE, nesterov=True, momentum=MOMENTUM)\n",
    "model.compile(loss=\"categorical_crossentropy\", metrics=[\"accuracy\"], optimizer=optimizer)\n",
    "\n",
    "model.fit(x_train, y_train, \n",
    "          epochs=EPOCHS, \n",
    "          batch_size=BATCH_SIZE, \n",
    "          validation_data=(x_test, y_test), \n",
    "          shuffle=True)\n",
    "\n",
    "# Collect results\n",
    "train_loss = model.history.history[\"loss\"]\n",
    "valid_loss = model.history.history[\"val_loss\"]\n",
    "train_acc = model.history.history[\"acc\"]\n",
    "valid_acc = model.history.history[\"val_acc\"]"
   ]
  },
  {
   "cell_type": "code",
   "execution_count": 8,
   "metadata": {},
   "outputs": [
    {
     "data": {
      "image/png": "[encoded data removed]",
      "text/plain": [
       "<matplotlib.figure.Figure at 0x7f527adf4b70>"
      ]
     },
     "metadata": {},
     "output_type": "display_data"
    },
    {
     "data": {
      "image/png": "[encoded data removed]",
      "text/plain": [
       "<matplotlib.figure.Figure at 0x7f5253968710>"
      ]
     },
     "metadata": {},
     "output_type": "display_data"
    }
   ],
   "source": [
    "import matplotlib.pyplot as plt\n",
    "%matplotlib inline\n",
    "\"\"\"Code Here\n",
    "將結果繪出\n",
    "\"\"\"\n",
    "\n",
    "plt.plot(range(len(train_loss)), train_loss, label=\"train loss\")\n",
    "plt.plot(range(len(valid_loss)), valid_loss, label=\"valid loss\")\n",
    "plt.legend()\n",
    "plt.title(\"Loss\")\n",
    "plt.show()\n",
    "\n",
    "plt.plot(range(len(train_acc)), train_acc, label=\"train accuracy\")\n",
    "plt.plot(range(len(valid_acc)), valid_acc, label=\"valid accuracy\")\n",
    "plt.legend()\n",
    "plt.title(\"Accuracy\")\n",
    "plt.show()"
   ]
  },
  {
   "cell_type": "code",
   "execution_count": null,
   "metadata": {
    "collapsed": true
   },
   "outputs": [],
   "source": []
  }
 ],
 "metadata": {
  "kernelspec": {
   "display_name": "Python 3",
   "language": "python",
   "name": "python3"
  },
  "language_info": {
   "codemirror_mode": {
    "name": "ipython",
    "version": 3
   },
   "file_extension": ".py",
   "mimetype": "text/x-python",
   "name": "python",
   "nbconvert_exporter": "python",
   "pygments_lexer": "ipython3",
   "version": "3.6.0"
  }
 },
 "nbformat": 4,
 "nbformat_minor": 2
}
