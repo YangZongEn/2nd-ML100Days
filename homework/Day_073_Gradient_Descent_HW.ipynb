{
 "cells": [
  {
   "cell_type": "markdown",
   "metadata": {},
   "source": [
    "# 作業重點\n",
    "\n",
    "使用function y=(x+5)² 來練習學習率( leanrning rate ) 調整所造成的影響"
   ]
  },
  {
   "cell_type": "markdown",
   "metadata": {},
   "source": [
    "# 作業目標:\n",
    "    請嘗試使用不同的組合驗證 learning rate 對所需 iteration 的影響\n",
    "    lr = [0.1, 0.0001]\n",
    "    主要驗證 Lr 對於grandient 收斂的速度\n",
    "    "
   ]
  },
  {
   "cell_type": "markdown",
   "metadata": {},
   "source": [
    "文件參考：\n",
    "1. [Tensorflow中learning rate decay的技巧](https://zhuanlan.zhihu.com/p/32923584)\n",
    "2. [機器/深度學習-基礎數學(二):梯度下降法(gradient descent)](shorturl.at/iCHW2)\n",
    "\n",
    "<pre>\n",
    "延伸閱讀– 如何設定學習率的衰減\n",
    "\n",
    "exponential_decay :指數衰減\n",
    "     decayed_learning_rate = learning_rate * decay_rate ^ (global_step / decay_steps)\n",
    "\n",
    "natural_exp_decay :自然指數衰減\n",
    "     decayed_learning_rate = learning_rate * exp(-decay_rate * global_step)\n",
    "\n",
    "inverse_time_decay :逆時間衰減\n",
    "     decayed_learning_rate = learning_rate / (1 + decay_rate * global_step / decay_step)\n",
    "\n",
    "polynomial_decay :多項式衰減\n",
    "     global_step \n",
    "         = min(global_step, decay_steps) decayed_learning_rate \n",
    "         = (learning_rate - end_learning_rate) *(1 - global_step / decay_steps) ^ (power) + end_learning_rate\n",
    "</pre>"
   ]
  },
  {
   "cell_type": "code",
   "execution_count": 8,
   "metadata": {
    "scrolled": false
   },
   "outputs": [
    {
     "name": "stdout",
     "output_type": "stream",
     "text": [
      "the learning rate is 0.01 \n",
      "Iteration 595 \n",
      "X value is -4.9999518490318176\n"
     ]
    }
   ],
   "source": [
    "cur_x = 3 # The algorithm starts at x=3\n",
    "precision = 0.000001 # This tells us when to stop the algorithm\n",
    "max_iters = 10000 # maximum number of iterations\n",
    "df = lambda x: 2 * (x + 5) # Gradient of our function \n",
    "\n",
    "# 需要執行初始值設定, 下列三個\n",
    "learning_rate = 0.01\n",
    "iteration_counter = 0\n",
    "previous_step_size = 1\n",
    "\n",
    "iters_history = [iteration_counter]\n",
    "x_history = [cur_x]\n",
    "while previous_step_size > precision and iteration_counter < max_iters:\n",
    "    prev_x = cur_x #S tore current x value in prev_x\n",
    "    cur_x = cur_x - learning_rate * df(prev_x) # Gradient descent\n",
    "    previous_step_size = abs(cur_x - prev_x)\n",
    "    iteration_counter = iteration_counter + 1 \n",
    "    \n",
    "    iters_history.append(iteration_counter)\n",
    "    x_history.append(cur_x)\n",
    "    \n",
    "print(\"the learning rate is\", learning_rate, \"\\nIteration\", iteration_counter, \"\\nX value is\", cur_x) # Print iterations\n"
   ]
  },
  {
   "cell_type": "code",
   "execution_count": 9,
   "metadata": {},
   "outputs": [
    {
     "data": {
      "image/png": "[encoded data removed]",
      "text/plain": [
       "<matplotlib.figure.Figure at 0x11a047390>"
      ]
     },
     "metadata": {},
     "output_type": "display_data"
    }
   ],
   "source": [
    "import matplotlib.pyplot as plt\n",
    "%matplotlib inline \n",
    "#適用於 Jupyter Notebook, 宣告直接在cell 內印出執行結果\n",
    "\n",
    "plt.plot(iters_history, x_history, 'o-', ms=3, lw=1.5, color='black')\n",
    "plt.xlabel(r'$iters$', fontsize=16)\n",
    "plt.ylabel(r'$x$', fontsize=16)\n",
    "plt.show()"
   ]
  },
  {
   "cell_type": "code",
   "execution_count": null,
   "metadata": {},
   "outputs": [],
   "source": []
  }
 ],
 "metadata": {
  "kernelspec": {
   "display_name": "Python 3",
   "language": "python",
   "name": "python3"
  },
  "language_info": {
   "codemirror_mode": {
    "name": "ipython",
    "version": 3
   },
   "file_extension": ".py",
   "mimetype": "text/x-python",
   "name": "python",
   "nbconvert_exporter": "python",
   "pygments_lexer": "ipython3",
   "version": "3.6.4"
  }
 },
 "nbformat": 4,
 "nbformat_minor": 2
}
