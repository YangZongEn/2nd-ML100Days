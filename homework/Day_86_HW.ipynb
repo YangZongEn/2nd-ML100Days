{
 "cells": [
  {
   "cell_type": "markdown",
   "metadata": {},
   "source": [
    "## Work\n",
    "1. 試比較 save_best_only 與否的差異\n",
    "2. 請僅存入將 save_weights_only 設定為 True, 並嘗試 reset ipynb 並將模型與權重重新建回並預測 x_test"
   ]
  },
  {
   "cell_type": "markdown",
   "metadata": {},
   "source": [
    "文件參考\n",
    "\n",
    "<pre>\n",
    "莫煩 Python - 儲存與載回模型\n",
    "\n",
    "\n",
    "儲存模型：前面的課程內容已經提過\n",
    "載回模型：\n",
    "儲存整個模型的話\n",
    "                  -> keras.models.load_model(path_to_your_model)\n",
    "\n",
    "只儲存權重的話\n",
    "                  -> model = build_model(...)\n",
    "\n",
    "                  -> model.load_weights(path_to_your_weight_file)\n",
    "\n",
    "</pre>\n",
    "\n",
    "參考連結： https://morvanzhou.github.io/tutorials/machine-learning/keras/3-1-save/"
   ]
  },
  {
   "cell_type": "code",
   "execution_count": 1,
   "metadata": {},
   "outputs": [
    {
     "name": "stderr",
     "output_type": "stream",
     "text": [
      "/anaconda3/lib/python3.6/site-packages/h5py/__init__.py:36: FutureWarning: Conversion of the second argument of issubdtype from `float` to `np.floating` is deprecated. In future, it will be treated as `np.float64 == np.dtype(float).type`.\n",
      "  from ._conv import register_converters as _register_converters\n",
      "Using TensorFlow backend.\n"
     ]
    }
   ],
   "source": [
    "import os\n",
    "import keras\n",
    "\n",
    "# Disable GPU\n",
    "os.environ[\"CUDA_VISIBLE_DEVICES\"] = \"\""
   ]
  },
  {
   "cell_type": "code",
   "execution_count": 2,
   "metadata": {},
   "outputs": [],
   "source": [
    "train, test = keras.datasets.cifar10.load_data()"
   ]
  },
  {
   "cell_type": "code",
   "execution_count": 3,
   "metadata": {},
   "outputs": [],
   "source": [
    "## 資料前處理\n",
    "def preproc_x(x, flatten=True):\n",
    "    x = x / 255.\n",
    "    if flatten:\n",
    "        x = x.reshape((len(x), -1))\n",
    "    return x\n",
    "\n",
    "def preproc_y(y, num_classes=10):\n",
    "    if y.shape[-1] == 1:\n",
    "        y = keras.utils.to_categorical(y, num_classes)\n",
    "    return y    "
   ]
  },
  {
   "cell_type": "code",
   "execution_count": 4,
   "metadata": {},
   "outputs": [],
   "source": [
    "x_train, y_train = train\n",
    "x_test, y_test = test\n",
    "\n",
    "# Preproc the inputs\n",
    "x_train = preproc_x(x_train)\n",
    "x_test = preproc_x(x_test)\n",
    "\n",
    "# Preprc the outputs\n",
    "y_train = preproc_y(y_train)\n",
    "y_test = preproc_y(y_test)"
   ]
  },
  {
   "cell_type": "code",
   "execution_count": 5,
   "metadata": {},
   "outputs": [],
   "source": [
    "from keras.layers import BatchNormalization\n",
    "\n",
    "\"\"\"\n",
    "建立神經網路，並加入 BN layer\n",
    "\"\"\"\n",
    "def build_mlp(input_shape, output_units=10, num_neurons=[512, 256, 128]):\n",
    "    input_layer = keras.layers.Input(input_shape)\n",
    "    \n",
    "    for i, n_units in enumerate(num_neurons):\n",
    "        if i == 0:\n",
    "            x = keras.layers.Dense(units=n_units, \n",
    "                                   activation=\"relu\", \n",
    "                                   name=\"hidden_layer\"+str(i+1))(input_layer)\n",
    "            x = BatchNormalization()(x)\n",
    "        else:\n",
    "            x = keras.layers.Dense(units=n_units, \n",
    "                                   activation=\"relu\", \n",
    "                                   name=\"hidden_layer\"+str(i+1))(x)\n",
    "            x = BatchNormalization()(x)\n",
    "    \n",
    "    out = keras.layers.Dense(units=output_units, activation=\"softmax\", name=\"output\")(x)\n",
    "    \n",
    "    model = keras.models.Model(inputs=[input_layer], outputs=[out])\n",
    "    return model"
   ]
  },
  {
   "cell_type": "code",
   "execution_count": 6,
   "metadata": {},
   "outputs": [],
   "source": [
    "## 超參數設定\n",
    "LEARNING_RATE = 1e-3\n",
    "EPOCHS = 50\n",
    "BATCH_SIZE = 1024\n",
    "MOMENTUM = 0.95"
   ]
  },
  {
   "cell_type": "code",
   "execution_count": 7,
   "metadata": {},
   "outputs": [
    {
     "name": "stdout",
     "output_type": "stream",
     "text": [
      "WARNING:tensorflow:From /anaconda3/lib/python3.6/site-packages/tensorflow/python/framework/op_def_library.py:263: colocate_with (from tensorflow.python.framework.ops) is deprecated and will be removed in a future version.\n",
      "Instructions for updating:\n",
      "Colocations handled automatically by placer.\n",
      "_________________________________________________________________\n",
      "Layer (type)                 Output Shape              Param #   \n",
      "=================================================================\n",
      "input_1 (InputLayer)         (None, 3072)              0         \n",
      "_________________________________________________________________\n",
      "hidden_layer1 (Dense)        (None, 512)               1573376   \n",
      "_________________________________________________________________\n",
      "batch_normalization_1 (Batch (None, 512)               2048      \n",
      "_________________________________________________________________\n",
      "hidden_layer2 (Dense)        (None, 256)               131328    \n",
      "_________________________________________________________________\n",
      "batch_normalization_2 (Batch (None, 256)               1024      \n",
      "_________________________________________________________________\n",
      "hidden_layer3 (Dense)        (None, 128)               32896     \n",
      "_________________________________________________________________\n",
      "batch_normalization_3 (Batch (None, 128)               512       \n",
      "_________________________________________________________________\n",
      "output (Dense)               (None, 10)                1290      \n",
      "=================================================================\n",
      "Total params: 1,742,474\n",
      "Trainable params: 1,740,682\n",
      "Non-trainable params: 1,792\n",
      "_________________________________________________________________\n",
      "WARNING:tensorflow:From /anaconda3/lib/python3.6/site-packages/tensorflow/python/ops/math_ops.py:3066: to_int32 (from tensorflow.python.ops.math_ops) is deprecated and will be removed in a future version.\n",
      "Instructions for updating:\n",
      "Use tf.cast instead.\n",
      "Train on 50000 samples, validate on 10000 samples\n",
      "Epoch 1/50\n",
      "50000/50000 [==============================] - 8s 167us/step - loss: 2.2022 - acc: 0.2746 - val_loss: 2.0839 - val_acc: 0.3213\n",
      "Epoch 2/50\n",
      "50000/50000 [==============================] - 7s 141us/step - loss: 1.7411 - acc: 0.3958 - val_loss: 1.7997 - val_acc: 0.3860\n",
      "Epoch 3/50\n",
      "50000/50000 [==============================] - 7s 145us/step - loss: 1.6135 - acc: 0.4359 - val_loss: 1.6745 - val_acc: 0.4175\n",
      "Epoch 4/50\n",
      "50000/50000 [==============================] - 7s 144us/step - loss: 1.5398 - acc: 0.4632 - val_loss: 1.6225 - val_acc: 0.4281\n",
      "Epoch 5/50\n",
      "50000/50000 [==============================] - 7s 139us/step - loss: 1.4826 - acc: 0.4808 - val_loss: 1.5926 - val_acc: 0.4420\n",
      "Epoch 6/50\n",
      "50000/50000 [==============================] - 7s 136us/step - loss: 1.4370 - acc: 0.4981 - val_loss: 1.5603 - val_acc: 0.4552\n",
      "Epoch 7/50\n",
      "50000/50000 [==============================] - 7s 140us/step - loss: 1.3988 - acc: 0.5112 - val_loss: 1.5420 - val_acc: 0.4541\n",
      "Epoch 8/50\n",
      "50000/50000 [==============================] - 7s 145us/step - loss: 1.3627 - acc: 0.5250 - val_loss: 1.5219 - val_acc: 0.4684\n",
      "Epoch 9/50\n",
      "50000/50000 [==============================] - 7s 140us/step - loss: 1.3311 - acc: 0.5349 - val_loss: 1.5291 - val_acc: 0.4619\n",
      "Epoch 10/50\n",
      "50000/50000 [==============================] - 8s 155us/step - loss: 1.3023 - acc: 0.5455 - val_loss: 1.4965 - val_acc: 0.4762\n",
      "Epoch 11/50\n",
      "50000/50000 [==============================] - 7s 147us/step - loss: 1.2713 - acc: 0.5570 - val_loss: 1.4941 - val_acc: 0.4731\n",
      "Epoch 12/50\n",
      "50000/50000 [==============================] - 8s 150us/step - loss: 1.2450 - acc: 0.5669 - val_loss: 1.4826 - val_acc: 0.4796\n",
      "Epoch 13/50\n",
      "50000/50000 [==============================] - 7s 139us/step - loss: 1.2202 - acc: 0.5778 - val_loss: 1.4791 - val_acc: 0.4856\n",
      "Epoch 14/50\n",
      "50000/50000 [==============================] - 7s 134us/step - loss: 1.1937 - acc: 0.5857 - val_loss: 1.4692 - val_acc: 0.4856\n",
      "Epoch 15/50\n",
      "50000/50000 [==============================] - 7s 136us/step - loss: 1.1719 - acc: 0.5947 - val_loss: 1.4654 - val_acc: 0.4887\n",
      "Epoch 16/50\n",
      "50000/50000 [==============================] - 7s 136us/step - loss: 1.1479 - acc: 0.6039 - val_loss: 1.4632 - val_acc: 0.4932\n",
      "Epoch 17/50\n",
      "50000/50000 [==============================] - 7s 135us/step - loss: 1.1245 - acc: 0.6142 - val_loss: 1.4520 - val_acc: 0.4935\n",
      "Epoch 18/50\n",
      "50000/50000 [==============================] - 7s 136us/step - loss: 1.1015 - acc: 0.6221 - val_loss: 1.4569 - val_acc: 0.4919\n",
      "Epoch 19/50\n",
      "50000/50000 [==============================] - 7s 136us/step - loss: 1.0796 - acc: 0.6303 - val_loss: 1.4608 - val_acc: 0.4927\n",
      "Epoch 20/50\n",
      "50000/50000 [==============================] - 7s 135us/step - loss: 1.0567 - acc: 0.6389 - val_loss: 1.4626 - val_acc: 0.4975\n",
      "Epoch 21/50\n",
      "50000/50000 [==============================] - 7s 135us/step - loss: 1.0350 - acc: 0.6470 - val_loss: 1.4600 - val_acc: 0.5000\n",
      "Epoch 22/50\n",
      "50000/50000 [==============================] - 7s 138us/step - loss: 1.0159 - acc: 0.6565 - val_loss: 1.4618 - val_acc: 0.4950\n",
      "Epoch 23/50\n",
      "50000/50000 [==============================] - 8s 157us/step - loss: 0.9944 - acc: 0.6629 - val_loss: 1.4630 - val_acc: 0.5002\n",
      "Epoch 24/50\n",
      "50000/50000 [==============================] - 7s 136us/step - loss: 0.9735 - acc: 0.6705 - val_loss: 1.4783 - val_acc: 0.4931\n",
      "Epoch 25/50\n",
      "50000/50000 [==============================] - 7s 142us/step - loss: 0.9541 - acc: 0.6784 - val_loss: 1.4765 - val_acc: 0.4985\n",
      "Epoch 26/50\n",
      "50000/50000 [==============================] - 7s 134us/step - loss: 0.9340 - acc: 0.6848 - val_loss: 1.4844 - val_acc: 0.4956\n",
      "Epoch 27/50\n",
      "50000/50000 [==============================] - 6s 129us/step - loss: 0.9147 - acc: 0.6935 - val_loss: 1.4798 - val_acc: 0.4983\n",
      "Epoch 28/50\n",
      "50000/50000 [==============================] - 7s 130us/step - loss: 0.8954 - acc: 0.7018 - val_loss: 1.4878 - val_acc: 0.4939\n",
      "Epoch 29/50\n",
      "50000/50000 [==============================] - 8s 161us/step - loss: 0.8750 - acc: 0.7091 - val_loss: 1.4994 - val_acc: 0.4971\n",
      "Epoch 30/50\n",
      "50000/50000 [==============================] - 7s 138us/step - loss: 0.8557 - acc: 0.7186 - val_loss: 1.4927 - val_acc: 0.4990\n",
      "Epoch 31/50\n",
      "50000/50000 [==============================] - 7s 133us/step - loss: 0.8354 - acc: 0.7257 - val_loss: 1.5132 - val_acc: 0.5009\n",
      "Epoch 32/50\n",
      "50000/50000 [==============================] - 7s 147us/step - loss: 0.8176 - acc: 0.7329 - val_loss: 1.4976 - val_acc: 0.4972\n",
      "Epoch 33/50\n",
      "50000/50000 [==============================] - 7s 145us/step - loss: 0.7985 - acc: 0.7407 - val_loss: 1.5046 - val_acc: 0.5037\n",
      "Epoch 34/50\n",
      "50000/50000 [==============================] - 8s 150us/step - loss: 0.7799 - acc: 0.7466 - val_loss: 1.5077 - val_acc: 0.4997\n",
      "Epoch 35/50\n",
      "50000/50000 [==============================] - 7s 147us/step - loss: 0.7610 - acc: 0.7556 - val_loss: 1.5279 - val_acc: 0.4991\n",
      "Epoch 36/50\n",
      "50000/50000 [==============================] - 8s 157us/step - loss: 0.7418 - acc: 0.7630 - val_loss: 1.5295 - val_acc: 0.4981\n",
      "Epoch 37/50\n",
      "50000/50000 [==============================] - 7s 150us/step - loss: 0.7223 - acc: 0.7711 - val_loss: 1.5502 - val_acc: 0.4882\n",
      "Epoch 38/50\n",
      "50000/50000 [==============================] - 7s 136us/step - loss: 0.7041 - acc: 0.7772 - val_loss: 1.5453 - val_acc: 0.4966\n",
      "Epoch 39/50\n",
      "50000/50000 [==============================] - 7s 134us/step - loss: 0.6860 - acc: 0.7843 - val_loss: 1.5450 - val_acc: 0.4964\n",
      "Epoch 40/50\n",
      "50000/50000 [==============================] - 9s 174us/step - loss: 0.6681 - acc: 0.7920 - val_loss: 1.5743 - val_acc: 0.4999\n",
      "Epoch 41/50\n",
      "50000/50000 [==============================] - 8s 155us/step - loss: 0.6516 - acc: 0.7982 - val_loss: 1.5760 - val_acc: 0.4948\n",
      "Epoch 42/50\n",
      "50000/50000 [==============================] - 7s 145us/step - loss: 0.6348 - acc: 0.8055 - val_loss: 1.6079 - val_acc: 0.4937\n",
      "Epoch 43/50\n",
      "50000/50000 [==============================] - 7s 140us/step - loss: 0.6157 - acc: 0.8137 - val_loss: 1.6251 - val_acc: 0.4889\n",
      "Epoch 44/50\n",
      "50000/50000 [==============================] - 7s 140us/step - loss: 0.5988 - acc: 0.8213 - val_loss: 1.6102 - val_acc: 0.4921\n",
      "Epoch 45/50\n"
     ]
    },
    {
     "name": "stdout",
     "output_type": "stream",
     "text": [
      "50000/50000 [==============================] - 8s 168us/step - loss: 0.5811 - acc: 0.8263 - val_loss: 1.6441 - val_acc: 0.4931\n",
      "Epoch 46/50\n",
      "50000/50000 [==============================] - 8s 158us/step - loss: 0.5627 - acc: 0.8340 - val_loss: 1.6318 - val_acc: 0.4923\n",
      "Epoch 47/50\n",
      "50000/50000 [==============================] - 8s 152us/step - loss: 0.5464 - acc: 0.8409 - val_loss: 1.6559 - val_acc: 0.4858\n",
      "Epoch 48/50\n",
      "50000/50000 [==============================] - 7s 148us/step - loss: 0.5290 - acc: 0.8477 - val_loss: 1.6465 - val_acc: 0.4946\n",
      "Epoch 49/50\n",
      "50000/50000 [==============================] - 7s 144us/step - loss: 0.5116 - acc: 0.8550 - val_loss: 1.6811 - val_acc: 0.4892\n",
      "Epoch 50/50\n",
      "50000/50000 [==============================] - 7s 134us/step - loss: 0.4975 - acc: 0.8600 - val_loss: 1.6787 - val_acc: 0.4945\n",
      "10000/10000 [==============================] - 1s 101us/step\n"
     ]
    }
   ],
   "source": [
    "\"\"\"\n",
    "# 載入 Callbacks, 並將監控目標設為 validation loss, 且只存最佳參數時的模型\n",
    "\"\"\"\n",
    "from keras.callbacks import ModelCheckpoint\n",
    "\n",
    "model_ckpt = ModelCheckpoint(filepath=\"./saved_models/day_86_HW.h5\", \n",
    "                             monitor=\"val_loss\", \n",
    "                             save_best_only=True)\n",
    "\n",
    "model = build_mlp(input_shape=x_train.shape[1:])\n",
    "model.summary()\n",
    "optimizer = keras.optimizers.SGD(lr=LEARNING_RATE, nesterov=True, momentum=MOMENTUM)\n",
    "model.compile(loss=\"categorical_crossentropy\", metrics=[\"accuracy\"], optimizer=optimizer)\n",
    "\n",
    "model.fit(x_train, y_train, \n",
    "          epochs=EPOCHS, \n",
    "          batch_size=BATCH_SIZE, \n",
    "          validation_data=(x_test, y_test), \n",
    "          shuffle=True,\n",
    "          callbacks=[model_ckpt]\n",
    "         )\n",
    "\n",
    "# Collect results\n",
    "train_loss = model.history.history[\"loss\"]\n",
    "valid_loss = model.history.history[\"val_loss\"]\n",
    "train_acc = model.history.history[\"acc\"]\n",
    "valid_acc = model.history.history[\"val_acc\"]\n",
    "\n",
    "# Load back\n",
    "model = keras.models.load_model(\"./saved_models/day_86_HW.h5\")\n",
    "loss_loadback, acc_loadback = model.evaluate(x_test, y_test)"
   ]
  },
  {
   "cell_type": "code",
   "execution_count": 8,
   "metadata": {
    "scrolled": true
   },
   "outputs": [
    {
     "data": {
      "image/png": "[encoded data removed]",
      "text/plain": [
       "<matplotlib.figure.Figure at 0xb3fb62b70>"
      ]
     },
     "metadata": {},
     "output_type": "display_data"
    },
    {
     "data": {
      "image/png": "[encoded data removed]",
      "text/plain": [
       "<matplotlib.figure.Figure at 0xb4057df28>"
      ]
     },
     "metadata": {},
     "output_type": "display_data"
    }
   ],
   "source": [
    "import matplotlib.pyplot as plt\n",
    "%matplotlib inline\n",
    "\n",
    "plt.plot(range(len(train_loss)), train_loss, label=\"train loss\")\n",
    "plt.plot(range(len(valid_loss)), valid_loss, label=\"valid loss\")\n",
    "plt.hlines(y=loss_loadback, xmin=0, xmax=len(train_loss), colors='r', linestyles='--')\n",
    "plt.legend()\n",
    "plt.title(\"Loss\")\n",
    "plt.show()\n",
    "\n",
    "plt.plot(range(len(train_acc)), train_acc, label=\"train accuracy\")\n",
    "plt.plot(range(len(valid_acc)), valid_acc, label=\"valid accuracy\")\n",
    "plt.hlines(y=acc_loadback, xmin=0, xmax=len(train_loss), colors='r', linestyles='--')\n",
    "plt.legend()\n",
    "plt.title(\"Accuracy\")\n",
    "plt.show()"
   ]
  },
  {
   "cell_type": "code",
   "execution_count": null,
   "metadata": {},
   "outputs": [],
   "source": []
  }
 ],
 "metadata": {
  "kernelspec": {
   "display_name": "Python 3",
   "language": "python",
   "name": "python3"
  },
  "language_info": {
   "codemirror_mode": {
    "name": "ipython",
    "version": 3
   },
   "file_extension": ".py",
   "mimetype": "text/x-python",
   "name": "python",
   "nbconvert_exporter": "python",
   "pygments_lexer": "ipython3",
   "version": "3.6.4"
  }
 },
 "nbformat": 4,
 "nbformat_minor": 2
}
