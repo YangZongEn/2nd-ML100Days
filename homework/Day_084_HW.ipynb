{
 "cells": [
  {
   "cell_type": "markdown",
   "metadata": {},
   "source": [
    "## Work\n",
    "### 請結合前面的知識與程式碼，比較不同的 regularization 的組合對訓練的結果與影響：如 dropout, regularizers, batch-normalization 等"
   ]
  },
  {
   "cell_type": "code",
   "execution_count": 7,
   "metadata": {},
   "outputs": [],
   "source": [
    "import os\n",
    "import keras\n",
    "import itertools\n",
    "# Disable GPU\n",
    "os.environ[\"CUDA_VISIBLE_DEVICES\"] = \"\""
   ]
  },
  {
   "cell_type": "code",
   "execution_count": 8,
   "metadata": {
    "collapsed": true
   },
   "outputs": [],
   "source": [
    "train, test = keras.datasets.cifar10.load_data()"
   ]
  },
  {
   "cell_type": "code",
   "execution_count": 9,
   "metadata": {
    "collapsed": true
   },
   "outputs": [],
   "source": [
    "## 資料前處理\n",
    "def preproc_x(x, flatten=True):\n",
    "    x = x / 255.\n",
    "    if flatten:\n",
    "        x = x.reshape((len(x), -1))\n",
    "    return x\n",
    "\n",
    "def preproc_y(y, num_classes=10):\n",
    "    if y.shape[-1] == 1:\n",
    "        y = keras.utils.to_categorical(y, num_classes)\n",
    "    return y    "
   ]
  },
  {
   "cell_type": "code",
   "execution_count": 10,
   "metadata": {
    "collapsed": true
   },
   "outputs": [],
   "source": [
    "x_train, y_train = train\n",
    "x_test, y_test = test\n",
    "\n",
    "# Preproc the inputs\n",
    "x_train = preproc_x(x_train)\n",
    "x_test = preproc_x(x_test)\n",
    "\n",
    "# Preprc the outputs\n",
    "y_train = preproc_y(y_train)\n",
    "y_test = preproc_y(y_test)"
   ]
  },
  {
   "cell_type": "code",
   "execution_count": 11,
   "metadata": {},
   "outputs": [],
   "source": [
    "from keras.layers import Dropout\n",
    "from keras.regularizers import l2, l1\n",
    "\n",
    "def build_mlp(input_shape, output_units=10, num_neurons=[512, 256, 128], drp_ratio=0.2, pattern = l1, regular_ratio=1e-4):\n",
    "    \"\"\"Code Here\n",
    "    建立你的神經網路\n",
    "    \"\"\"\n",
    "    input_layer = keras.layers.Input(input_shape)\n",
    "    \n",
    "    for i, n_units in enumerate(num_neurons):\n",
    "        if i == 0:\n",
    "            x = keras.layers.Dense(units=n_units, \n",
    "                                   activation=\"relu\", \n",
    "                                   name=\"hidden_layer\"+str(i+1),\n",
    "                                   kernel_regularizer=pattern(regular_ratio))(input_layer)\n",
    "        else:\n",
    "            x = keras.layers.Dense(units=n_units, \n",
    "                                   activation=\"relu\", \n",
    "                                   name=\"hidden_layer\"+str(i+1),\n",
    "                                   kernel_regularizer=pattern(regular_ratio))(x)\n",
    "        x = Dropout(drp_ratio)(x)\n",
    "    \n",
    "    out = keras.layers.Dense(units=output_units, activation=\"softmax\", name=\"output\")(x)\n",
    "    \n",
    "    model = keras.models.Model(inputs=[input_layer], outputs=[out])\n",
    "    \n",
    "    return model"
   ]
  },
  {
   "cell_type": "code",
   "execution_count": 12,
   "metadata": {
    "collapsed": true
   },
   "outputs": [],
   "source": [
    "\"\"\"Code Here\n",
    "設定超參數\n",
    "\"\"\"\n",
    "LEARNING_RATE = 1e-3\n",
    "EPOCHS = 50\n",
    "BATCH_SIZE = 256\n",
    "MOMENTUM = 0.95\n",
    "Dropout_EXP = 0.2\n",
    "EXP = 1e-2\n",
    "PATTERN = l2"
   ]
  },
  {
   "cell_type": "code",
   "execution_count": 13,
   "metadata": {
    "scrolled": true
   },
   "outputs": [
    {
     "name": "stdout",
     "output_type": "stream",
     "text": [
      "_________________________________________________________________\n",
      "Layer (type)                 Output Shape              Param #   \n",
      "=================================================================\n",
      "input_1 (InputLayer)         (None, 3072)              0         \n",
      "_________________________________________________________________\n",
      "hidden_layer1 (Dense)        (None, 512)               1573376   \n",
      "_________________________________________________________________\n",
      "dropout_1 (Dropout)          (None, 512)               0         \n",
      "_________________________________________________________________\n",
      "hidden_layer2 (Dense)        (None, 256)               131328    \n",
      "_________________________________________________________________\n",
      "dropout_2 (Dropout)          (None, 256)               0         \n",
      "_________________________________________________________________\n",
      "hidden_layer3 (Dense)        (None, 128)               32896     \n",
      "_________________________________________________________________\n",
      "dropout_3 (Dropout)          (None, 128)               0         \n",
      "_________________________________________________________________\n",
      "output (Dense)               (None, 10)                1290      \n",
      "=================================================================\n",
      "Total params: 1,738,890\n",
      "Trainable params: 1,738,890\n",
      "Non-trainable params: 0\n",
      "_________________________________________________________________\n",
      "Train on 50000 samples, validate on 10000 samples\n",
      "Epoch 1/50\n",
      "50000/50000 [==============================] - 10s 199us/step - loss: 15.1833 - acc: 0.1897 - val_loss: 14.0098 - val_acc: 0.3118\n",
      "Epoch 2/50\n",
      "50000/50000 [==============================] - 10s 201us/step - loss: 13.1183 - acc: 0.2827 - val_loss: 12.1601 - val_acc: 0.3407\n",
      "Epoch 3/50\n",
      "50000/50000 [==============================] - 9s 177us/step - loss: 11.4354 - acc: 0.3153 - val_loss: 10.6216 - val_acc: 0.3575\n",
      "Epoch 4/50\n",
      "50000/50000 [==============================] - 10s 194us/step - loss: 10.0158 - acc: 0.3333 - val_loss: 9.3186 - val_acc: 0.3736\n",
      "Epoch 5/50\n",
      "50000/50000 [==============================] - 9s 177us/step - loss: 8.8084 - acc: 0.3442 - val_loss: 8.2074 - val_acc: 0.3811\n",
      "Epoch 6/50\n",
      "50000/50000 [==============================] - 10s 199us/step - loss: 7.7820 - acc: 0.3565 - val_loss: 7.2625 - val_acc: 0.3903\n",
      "Epoch 7/50\n",
      "50000/50000 [==============================] - 10s 194us/step - loss: 6.9058 - acc: 0.3640 - val_loss: 6.4595 - val_acc: 0.3965\n",
      "Epoch 8/50\n",
      "50000/50000 [==============================] - 10s 195us/step - loss: 6.1615 - acc: 0.3751 - val_loss: 5.7678 - val_acc: 0.4019\n",
      "Epoch 9/50\n",
      "50000/50000 [==============================] - 9s 178us/step - loss: 5.5210 - acc: 0.3812 - val_loss: 5.1832 - val_acc: 0.4085\n",
      "Epoch 10/50\n",
      "50000/50000 [==============================] - 9s 186us/step - loss: 4.9771 - acc: 0.3856 - val_loss: 4.6767 - val_acc: 0.4124\n",
      "Epoch 11/50\n",
      "50000/50000 [==============================] - 9s 174us/step - loss: 4.5124 - acc: 0.3902 - val_loss: 4.2484 - val_acc: 0.4201\n",
      "Epoch 12/50\n",
      "50000/50000 [==============================] - 9s 187us/step - loss: 4.1156 - acc: 0.3958 - val_loss: 3.8890 - val_acc: 0.4189\n",
      "Epoch 13/50\n",
      "50000/50000 [==============================] - 9s 181us/step - loss: 3.7774 - acc: 0.4009 - val_loss: 3.5776 - val_acc: 0.4252\n",
      "Epoch 14/50\n",
      "50000/50000 [==============================] - 9s 179us/step - loss: 3.4861 - acc: 0.4037 - val_loss: 3.3020 - val_acc: 0.4283\n",
      "Epoch 15/50\n",
      "50000/50000 [==============================] - 9s 181us/step - loss: 3.2349 - acc: 0.4091 - val_loss: 3.0837 - val_acc: 0.4305\n",
      "Epoch 16/50\n",
      "50000/50000 [==============================] - 9s 181us/step - loss: 3.0219 - acc: 0.4132 - val_loss: 2.8892 - val_acc: 0.4285\n",
      "Epoch 17/50\n",
      "50000/50000 [==============================] - 9s 187us/step - loss: 2.8408 - acc: 0.4142 - val_loss: 2.7147 - val_acc: 0.4399\n",
      "Epoch 18/50\n",
      "50000/50000 [==============================] - 9s 178us/step - loss: 2.6834 - acc: 0.4173 - val_loss: 2.5757 - val_acc: 0.4396\n",
      "Epoch 19/50\n",
      "50000/50000 [==============================] - 9s 181us/step - loss: 2.5475 - acc: 0.4217 - val_loss: 2.4474 - val_acc: 0.4442\n",
      "Epoch 20/50\n",
      "50000/50000 [==============================] - 9s 177us/step - loss: 2.4317 - acc: 0.4260 - val_loss: 2.3396 - val_acc: 0.4454\n",
      "Epoch 21/50\n",
      "50000/50000 [==============================] - 9s 190us/step - loss: 2.3354 - acc: 0.4250 - val_loss: 2.2543 - val_acc: 0.4479\n",
      "Epoch 22/50\n",
      "50000/50000 [==============================] - 9s 181us/step - loss: 2.2514 - acc: 0.4265 - val_loss: 2.1659 - val_acc: 0.4561\n",
      "Epoch 23/50\n",
      "50000/50000 [==============================] - 9s 188us/step - loss: 2.1771 - acc: 0.4310 - val_loss: 2.1021 - val_acc: 0.4548\n",
      "Epoch 24/50\n",
      "50000/50000 [==============================] - 9s 179us/step - loss: 2.1156 - acc: 0.4327 - val_loss: 2.0469 - val_acc: 0.4566\n",
      "Epoch 25/50\n",
      "50000/50000 [==============================] - 9s 186us/step - loss: 2.0617 - acc: 0.4358 - val_loss: 1.9927 - val_acc: 0.4550\n",
      "Epoch 26/50\n",
      "50000/50000 [==============================] - 9s 184us/step - loss: 2.0133 - acc: 0.4383 - val_loss: 1.9580 - val_acc: 0.4573\n",
      "Epoch 27/50\n",
      "50000/50000 [==============================] - 9s 173us/step - loss: 1.9762 - acc: 0.4357 - val_loss: 1.9220 - val_acc: 0.4529\n",
      "Epoch 28/50\n",
      "50000/50000 [==============================] - 9s 185us/step - loss: 1.9401 - acc: 0.4414 - val_loss: 1.8855 - val_acc: 0.4614\n",
      "Epoch 29/50\n",
      "50000/50000 [==============================] - 9s 172us/step - loss: 1.9089 - acc: 0.4399 - val_loss: 1.8724 - val_acc: 0.4634\n",
      "Epoch 30/50\n",
      "50000/50000 [==============================] - 9s 182us/step - loss: 1.8823 - acc: 0.4443 - val_loss: 1.8393 - val_acc: 0.4663\n",
      "Epoch 31/50\n",
      "50000/50000 [==============================] - 9s 179us/step - loss: 1.8612 - acc: 0.4473 - val_loss: 1.8140 - val_acc: 0.4671\n",
      "Epoch 32/50\n",
      "50000/50000 [==============================] - 9s 179us/step - loss: 1.8403 - acc: 0.4478 - val_loss: 1.7998 - val_acc: 0.4691\n",
      "Epoch 33/50\n",
      "50000/50000 [==============================] - 9s 184us/step - loss: 1.8226 - acc: 0.4493 - val_loss: 1.7968 - val_acc: 0.4673\n",
      "Epoch 34/50\n",
      "50000/50000 [==============================] - 9s 187us/step - loss: 1.8079 - acc: 0.4516 - val_loss: 1.7667 - val_acc: 0.4717\n",
      "Epoch 35/50\n",
      "50000/50000 [==============================] - 9s 181us/step - loss: 1.7938 - acc: 0.4522 - val_loss: 1.7572 - val_acc: 0.4761\n",
      "Epoch 36/50\n",
      "50000/50000 [==============================] - 9s 187us/step - loss: 1.7805 - acc: 0.4572 - val_loss: 1.7489 - val_acc: 0.4719\n",
      "Epoch 37/50\n",
      "50000/50000 [==============================] - 9s 186us/step - loss: 1.7697 - acc: 0.4579 - val_loss: 1.7499 - val_acc: 0.4628\n",
      "Epoch 38/50\n",
      "50000/50000 [==============================] - 10s 199us/step - loss: 1.7630 - acc: 0.4576 - val_loss: 1.7335 - val_acc: 0.4714\n",
      "Epoch 39/50\n",
      "50000/50000 [==============================] - 9s 184us/step - loss: 1.7564 - acc: 0.4585 - val_loss: 1.7273 - val_acc: 0.4801\n",
      "Epoch 40/50\n",
      "50000/50000 [==============================] - 9s 183us/step - loss: 1.7489 - acc: 0.4589 - val_loss: 1.7270 - val_acc: 0.4707\n",
      "Epoch 41/50\n",
      "50000/50000 [==============================] - 9s 184us/step - loss: 1.7372 - acc: 0.4633 - val_loss: 1.7178 - val_acc: 0.4737\n",
      "Epoch 42/50\n",
      "50000/50000 [==============================] - 9s 171us/step - loss: 1.7355 - acc: 0.4638 - val_loss: 1.7155 - val_acc: 0.4765\n",
      "Epoch 43/50\n",
      "50000/50000 [==============================] - 9s 184us/step - loss: 1.7271 - acc: 0.4651 - val_loss: 1.7004 - val_acc: 0.4850\n",
      "Epoch 44/50\n",
      "50000/50000 [==============================] - 9s 172us/step - loss: 1.7240 - acc: 0.4662 - val_loss: 1.6967 - val_acc: 0.4863\n",
      "Epoch 45/50\n",
      "50000/50000 [==============================] - 9s 181us/step - loss: 1.7213 - acc: 0.4671 - val_loss: 1.6898 - val_acc: 0.4821\n",
      "Epoch 46/50\n",
      "50000/50000 [==============================] - 9s 175us/step - loss: 1.7202 - acc: 0.4653 - val_loss: 1.7359 - val_acc: 0.4682\n",
      "Epoch 47/50\n",
      "50000/50000 [==============================] - 9s 185us/step - loss: 1.7121 - acc: 0.4668 - val_loss: 1.6856 - val_acc: 0.4811\n",
      "Epoch 48/50\n",
      "50000/50000 [==============================] - 9s 186us/step - loss: 1.7108 - acc: 0.4695 - val_loss: 1.6871 - val_acc: 0.4873\n",
      "Epoch 49/50\n"
     ]
    },
    {
     "name": "stdout",
     "output_type": "stream",
     "text": [
      "50000/50000 [==============================] - 9s 174us/step - loss: 1.7070 - acc: 0.4697 - val_loss: 1.6811 - val_acc: 0.4855\n",
      "Epoch 50/50\n",
      "50000/50000 [==============================] - 9s 180us/step - loss: 1.7044 - acc: 0.4686 - val_loss: 1.6827 - val_acc: 0.4862\n"
     ]
    }
   ],
   "source": [
    "results = {}\n",
    "\"\"\"Code Here\n",
    "撰寫你的訓練流程並將結果用 dictionary 紀錄\n",
    "\"\"\"\n",
    "model = build_mlp(input_shape=x_train.shape[1:], drp_ratio=Dropout_EXP, pattern=PATTERN, regular_ratio=EXP)\n",
    "model.summary()\n",
    "optimizer = keras.optimizers.SGD(lr=LEARNING_RATE, nesterov=True, momentum=MOMENTUM)\n",
    "model.compile(loss=\"categorical_crossentropy\", metrics=[\"accuracy\"], optimizer=optimizer)\n",
    "\n",
    "model.fit(x_train, y_train, \n",
    "          epochs=EPOCHS, \n",
    "          batch_size=BATCH_SIZE, \n",
    "          validation_data=(x_test, y_test), \n",
    "          shuffle=True)\n",
    "\n",
    "# Collect results\n",
    "train_loss = model.history.history[\"loss\"]\n",
    "valid_loss = model.history.history[\"val_loss\"]\n",
    "train_acc = model.history.history[\"acc\"]\n",
    "valid_acc = model.history.history[\"val_acc\"]"
   ]
  },
  {
   "cell_type": "code",
   "execution_count": 14,
   "metadata": {},
   "outputs": [
    {
     "data": {
      "image/png": "[encoded data removed]",
      "text/plain": [
       "<matplotlib.figure.Figure at 0x7fef7fe2c2e8>"
      ]
     },
     "metadata": {},
     "output_type": "display_data"
    },
    {
     "data": {
      "image/png": "[encoded data removed]",
      "text/plain": [
       "<matplotlib.figure.Figure at 0x7fef58dfe470>"
      ]
     },
     "metadata": {},
     "output_type": "display_data"
    }
   ],
   "source": [
    "import matplotlib.pyplot as plt\n",
    "%matplotlib inline\n",
    "\"\"\"Code Here\n",
    "將結果繪出\n",
    "\"\"\"\n",
    "\n",
    "plt.plot(range(len(train_loss)), train_loss, label=\"train loss\")\n",
    "plt.plot(range(len(valid_loss)), valid_loss, label=\"valid loss\")\n",
    "plt.legend()\n",
    "plt.title(\"Loss\")\n",
    "plt.show()\n",
    "\n",
    "plt.plot(range(len(train_acc)), train_acc, label=\"train accuracy\")\n",
    "plt.plot(range(len(valid_acc)), valid_acc, label=\"valid accuracy\")\n",
    "plt.legend()\n",
    "plt.title(\"Accuracy\")\n",
    "plt.show()"
   ]
  },
  {
   "cell_type": "code",
   "execution_count": null,
   "metadata": {
    "collapsed": true
   },
   "outputs": [],
   "source": []
  }
 ],
 "metadata": {
  "kernelspec": {
   "display_name": "Python 3",
   "language": "python",
   "name": "python3"
  },
  "language_info": {
   "codemirror_mode": {
    "name": "ipython",
    "version": 3
   },
   "file_extension": ".py",
   "mimetype": "text/x-python",
   "name": "python",
   "nbconvert_exporter": "python",
   "pygments_lexer": "ipython3",
   "version": "3.6.0"
  }
 },
 "nbformat": 4,
 "nbformat_minor": 2
}
