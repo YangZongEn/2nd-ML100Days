{
 "cells": [
  {
   "cell_type": "markdown",
   "metadata": {},
   "source": [
    "## 範例重點\n",
    "* 學會從 Keras 內建函式取得資料\n",
    "* 能夠建立簡易的深度學習模型\n",
    "* 觀察並了解 Overfit 現象"
   ]
  },
  {
   "cell_type": "code",
   "execution_count": 1,
   "metadata": {},
   "outputs": [
    {
     "name": "stderr",
     "output_type": "stream",
     "text": [
      "/anaconda3/lib/python3.6/site-packages/h5py/__init__.py:36: FutureWarning: Conversion of the second argument of issubdtype from `float` to `np.floating` is deprecated. In future, it will be treated as `np.float64 == np.dtype(float).type`.\n",
      "  from ._conv import register_converters as _register_converters\n",
      "Using TensorFlow backend.\n"
     ]
    }
   ],
   "source": [
    "import os\n",
    "import keras\n",
    "\n",
    "# 本範例不需使用 GPU, 將 GPU 設定為 \"無\"\n",
    "os.environ[\"CUDA_VISIBLE_DEVICES\"] = \"\""
   ]
  },
  {
   "cell_type": "code",
   "execution_count": 2,
   "metadata": {},
   "outputs": [],
   "source": [
    "# 從 Keras 的內建功能中，取得 train 與 test 資料集\n",
    "train, test = keras.datasets.cifar10.load_data()"
   ]
  },
  {
   "cell_type": "code",
   "execution_count": 3,
   "metadata": {},
   "outputs": [
    {
     "name": "stdout",
     "output_type": "stream",
     "text": [
      "(50000, 32, 32, 3)\n"
     ]
    }
   ],
   "source": [
    "# 將 X 與 Y 獨立放進變數\n",
    "x_train, y_train = train\n",
    "x_test, y_test = test\n",
    "# 資料前處理 - 標準化\n",
    "x_train = x_train / 255.\n",
    "x_test = x_test / 255.\n",
    "print(x_train.shape)\n",
    "\n",
    "# 將資料從圖形 (RGB) 轉為向量 (Single Vector)\n",
    "x_train = x_train.reshape((len(x_train), -1))\n",
    "x_test = x_test.reshape((len(x_test), -1))\n",
    "\n",
    "# 將目標轉為 one-hot encoding\n",
    "y_train = keras.utils.to_categorical(y_train, num_classes=10)\n",
    "y_test = keras.utils.to_categorical(y_test, num_classes=10)"
   ]
  },
  {
   "cell_type": "code",
   "execution_count": 4,
   "metadata": {},
   "outputs": [],
   "source": [
    "# 建立一個有三層隱藏層之神經網路\n",
    "def build_mlp():\n",
    "    input_layer = keras.layers.Input([x_train.shape[-1]])\n",
    "    x = keras.layers.Dense(units=512, activation=\"relu\")(input_layer)\n",
    "    x = keras.layers.Dense(units=256, activation=\"relu\")(x)\n",
    "    x = keras.layers.Dense(units=128, activation=\"relu\")(x)\n",
    "    out = keras.layers.Dense(units=10, activation=\"softmax\")(x)\n",
    "    \n",
    "    model = keras.models.Model(inputs=[input_layer], outputs=[out])\n",
    "    return model"
   ]
  },
  {
   "cell_type": "code",
   "execution_count": 5,
   "metadata": {},
   "outputs": [
    {
     "name": "stdout",
     "output_type": "stream",
     "text": [
      "WARNING:tensorflow:From /anaconda3/lib/python3.6/site-packages/tensorflow/python/framework/op_def_library.py:263: colocate_with (from tensorflow.python.framework.ops) is deprecated and will be removed in a future version.\n",
      "Instructions for updating:\n",
      "Colocations handled automatically by placer.\n",
      "_________________________________________________________________\n",
      "Layer (type)                 Output Shape              Param #   \n",
      "=================================================================\n",
      "input_1 (InputLayer)         (None, 3072)              0         \n",
      "_________________________________________________________________\n",
      "dense_1 (Dense)              (None, 512)               1573376   \n",
      "_________________________________________________________________\n",
      "dense_2 (Dense)              (None, 256)               131328    \n",
      "_________________________________________________________________\n",
      "dense_3 (Dense)              (None, 128)               32896     \n",
      "_________________________________________________________________\n",
      "dense_4 (Dense)              (None, 10)                1290      \n",
      "=================================================================\n",
      "Total params: 1,738,890\n",
      "Trainable params: 1,738,890\n",
      "Non-trainable params: 0\n",
      "_________________________________________________________________\n"
     ]
    }
   ],
   "source": [
    "model = build_mlp()\n",
    "# 用 Keras 內建方法檢視模型各層參數量\n",
    "model.summary()\n",
    "\n",
    "optimizer = keras.optimizers.Adam(lr=0.001)\n",
    "model.compile(loss=\"categorical_crossentropy\", metrics=[\"accuracy\"], optimizer=optimizer)"
   ]
  },
  {
   "cell_type": "code",
   "execution_count": 6,
   "metadata": {},
   "outputs": [
    {
     "name": "stdout",
     "output_type": "stream",
     "text": [
      "WARNING:tensorflow:From /anaconda3/lib/python3.6/site-packages/tensorflow/python/ops/math_ops.py:3066: to_int32 (from tensorflow.python.ops.math_ops) is deprecated and will be removed in a future version.\n",
      "Instructions for updating:\n",
      "Use tf.cast instead.\n",
      "Train on 50000 samples, validate on 10000 samples\n",
      "Epoch 1/100\n",
      "50000/50000 [==============================] - 10s 197us/step - loss: 1.9252 - acc: 0.3043 - val_loss: 1.7173 - val_acc: 0.3884\n",
      "Epoch 2/100\n",
      "50000/50000 [==============================] - 8s 162us/step - loss: 1.6980 - acc: 0.3923 - val_loss: 1.6353 - val_acc: 0.4113\n",
      "Epoch 3/100\n",
      "50000/50000 [==============================] - 9s 175us/step - loss: 1.6104 - acc: 0.4254 - val_loss: 1.5731 - val_acc: 0.4430\n",
      "Epoch 4/100\n",
      "50000/50000 [==============================] - 10s 191us/step - loss: 1.5430 - acc: 0.4503 - val_loss: 1.6087 - val_acc: 0.4343\n",
      "Epoch 5/100\n",
      "50000/50000 [==============================] - 10s 206us/step - loss: 1.5085 - acc: 0.4630 - val_loss: 1.5476 - val_acc: 0.4503\n",
      "Epoch 6/100\n",
      "50000/50000 [==============================] - 8s 157us/step - loss: 1.4702 - acc: 0.4761 - val_loss: 1.4890 - val_acc: 0.4670\n",
      "Epoch 7/100\n",
      "50000/50000 [==============================] - 8s 156us/step - loss: 1.4339 - acc: 0.4908 - val_loss: 1.5326 - val_acc: 0.4526\n",
      "Epoch 8/100\n",
      "50000/50000 [==============================] - 8s 157us/step - loss: 1.4038 - acc: 0.5001 - val_loss: 1.4695 - val_acc: 0.4712\n",
      "Epoch 9/100\n",
      "50000/50000 [==============================] - 8s 155us/step - loss: 1.3851 - acc: 0.5053 - val_loss: 1.4915 - val_acc: 0.4683\n",
      "Epoch 10/100\n",
      "50000/50000 [==============================] - 8s 155us/step - loss: 1.3520 - acc: 0.5182 - val_loss: 1.4314 - val_acc: 0.4927\n",
      "Epoch 11/100\n",
      "50000/50000 [==============================] - 8s 155us/step - loss: 1.3310 - acc: 0.5256 - val_loss: 1.4049 - val_acc: 0.4959\n",
      "Epoch 12/100\n",
      "50000/50000 [==============================] - 8s 154us/step - loss: 1.3060 - acc: 0.5342 - val_loss: 1.5193 - val_acc: 0.4630\n",
      "Epoch 13/100\n",
      "50000/50000 [==============================] - 8s 155us/step - loss: 1.2954 - acc: 0.5400 - val_loss: 1.4104 - val_acc: 0.4922\n",
      "Epoch 14/100\n",
      "50000/50000 [==============================] - 8s 155us/step - loss: 1.2743 - acc: 0.5450 - val_loss: 1.3960 - val_acc: 0.5035\n",
      "Epoch 15/100\n",
      "50000/50000 [==============================] - 8s 156us/step - loss: 1.2469 - acc: 0.5535 - val_loss: 1.3852 - val_acc: 0.5086\n",
      "Epoch 16/100\n",
      "50000/50000 [==============================] - 8s 155us/step - loss: 1.2229 - acc: 0.5619 - val_loss: 1.3724 - val_acc: 0.5180\n",
      "Epoch 17/100\n",
      "50000/50000 [==============================] - 8s 158us/step - loss: 1.1962 - acc: 0.5721 - val_loss: 1.3953 - val_acc: 0.5119\n",
      "Epoch 18/100\n",
      "50000/50000 [==============================] - 8s 155us/step - loss: 1.1774 - acc: 0.5799 - val_loss: 1.3803 - val_acc: 0.5165\n",
      "Epoch 19/100\n",
      "50000/50000 [==============================] - 8s 163us/step - loss: 1.1633 - acc: 0.5849 - val_loss: 1.3849 - val_acc: 0.5124\n",
      "Epoch 20/100\n",
      "50000/50000 [==============================] - 8s 170us/step - loss: 1.1374 - acc: 0.5924 - val_loss: 1.3929 - val_acc: 0.5156\n",
      "Epoch 21/100\n",
      "50000/50000 [==============================] - 9s 174us/step - loss: 1.1190 - acc: 0.5995 - val_loss: 1.4149 - val_acc: 0.5088\n",
      "Epoch 22/100\n",
      "50000/50000 [==============================] - 11s 210us/step - loss: 1.0987 - acc: 0.6089 - val_loss: 1.3893 - val_acc: 0.5195\n",
      "Epoch 23/100\n",
      "50000/50000 [==============================] - 11s 213us/step - loss: 1.0763 - acc: 0.6156 - val_loss: 1.4061 - val_acc: 0.5147\n",
      "Epoch 24/100\n",
      "50000/50000 [==============================] - 8s 165us/step - loss: 1.0706 - acc: 0.6179 - val_loss: 1.3670 - val_acc: 0.5340\n",
      "Epoch 25/100\n",
      "50000/50000 [==============================] - 8s 165us/step - loss: 1.0357 - acc: 0.6300 - val_loss: 1.3765 - val_acc: 0.5236\n",
      "Epoch 26/100\n",
      "50000/50000 [==============================] - 9s 183us/step - loss: 1.0184 - acc: 0.6353 - val_loss: 1.3864 - val_acc: 0.5245\n",
      "Epoch 27/100\n",
      "50000/50000 [==============================] - 8s 168us/step - loss: 1.0025 - acc: 0.6426 - val_loss: 1.4064 - val_acc: 0.5239\n",
      "Epoch 28/100\n",
      "50000/50000 [==============================] - 8s 164us/step - loss: 0.9799 - acc: 0.6504 - val_loss: 1.4012 - val_acc: 0.5274\n",
      "Epoch 29/100\n",
      "50000/50000 [==============================] - 8s 163us/step - loss: 0.9700 - acc: 0.6526 - val_loss: 1.4126 - val_acc: 0.5238\n",
      "Epoch 30/100\n",
      "50000/50000 [==============================] - 8s 166us/step - loss: 0.9450 - acc: 0.6622 - val_loss: 1.4100 - val_acc: 0.5317\n",
      "Epoch 31/100\n",
      "50000/50000 [==============================] - 9s 182us/step - loss: 0.9374 - acc: 0.6640 - val_loss: 1.4523 - val_acc: 0.5199\n",
      "Epoch 32/100\n",
      "50000/50000 [==============================] - 8s 156us/step - loss: 0.9020 - acc: 0.6794 - val_loss: 1.4648 - val_acc: 0.5237\n",
      "Epoch 33/100\n",
      "50000/50000 [==============================] - 8s 153us/step - loss: 0.8904 - acc: 0.6837 - val_loss: 1.5164 - val_acc: 0.5100\n",
      "Epoch 34/100\n",
      "50000/50000 [==============================] - 8s 154us/step - loss: 0.8843 - acc: 0.6843 - val_loss: 1.5211 - val_acc: 0.5133\n",
      "Epoch 35/100\n",
      "50000/50000 [==============================] - 8s 161us/step - loss: 0.8605 - acc: 0.6920 - val_loss: 1.4985 - val_acc: 0.5181\n",
      "Epoch 36/100\n",
      "50000/50000 [==============================] - 8s 158us/step - loss: 0.8394 - acc: 0.6993 - val_loss: 1.5175 - val_acc: 0.5223\n",
      "Epoch 37/100\n",
      "50000/50000 [==============================] - 8s 160us/step - loss: 0.8257 - acc: 0.7032 - val_loss: 1.5487 - val_acc: 0.5180\n",
      "Epoch 38/100\n",
      "50000/50000 [==============================] - 8s 169us/step - loss: 0.8190 - acc: 0.7057 - val_loss: 1.5534 - val_acc: 0.5249\n",
      "Epoch 39/100\n",
      "50000/50000 [==============================] - 9s 174us/step - loss: 0.7965 - acc: 0.7172 - val_loss: 1.5476 - val_acc: 0.5297\n",
      "Epoch 40/100\n",
      "50000/50000 [==============================] - 9s 177us/step - loss: 0.7707 - acc: 0.7232 - val_loss: 1.5964 - val_acc: 0.5158\n",
      "Epoch 41/100\n",
      "50000/50000 [==============================] - 9s 177us/step - loss: 0.7596 - acc: 0.7270 - val_loss: 1.6177 - val_acc: 0.5163\n",
      "Epoch 42/100\n",
      "50000/50000 [==============================] - 11s 214us/step - loss: 0.7442 - acc: 0.7324 - val_loss: 1.6141 - val_acc: 0.5231\n",
      "Epoch 43/100\n",
      "50000/50000 [==============================] - 9s 188us/step - loss: 0.7295 - acc: 0.7392 - val_loss: 1.6465 - val_acc: 0.5171\n",
      "Epoch 44/100\n",
      "50000/50000 [==============================] - 9s 170us/step - loss: 0.7158 - acc: 0.7454 - val_loss: 1.6637 - val_acc: 0.5269\n",
      "Epoch 45/100\n",
      "50000/50000 [==============================] - 9s 186us/step - loss: 0.7040 - acc: 0.7471 - val_loss: 1.7286 - val_acc: 0.5118\n",
      "Epoch 46/100\n",
      "50000/50000 [==============================] - 9s 183us/step - loss: 0.6933 - acc: 0.7518 - val_loss: 1.7376 - val_acc: 0.5076\n",
      "Epoch 47/100\n",
      "50000/50000 [==============================] - 9s 182us/step - loss: 0.6732 - acc: 0.7605 - val_loss: 1.7510 - val_acc: 0.5151\n",
      "Epoch 48/100\n",
      "50000/50000 [==============================] - 10s 203us/step - loss: 0.6603 - acc: 0.7624 - val_loss: 1.7648 - val_acc: 0.5120\n",
      "Epoch 49/100\n",
      "50000/50000 [==============================] - 10s 195us/step - loss: 0.6430 - acc: 0.7697 - val_loss: 1.8172 - val_acc: 0.5172\n",
      "Epoch 50/100\n",
      "50000/50000 [==============================] - 9s 188us/step - loss: 0.6345 - acc: 0.7730 - val_loss: 1.8263 - val_acc: 0.5114\n",
      "Epoch 51/100\n",
      "50000/50000 [==============================] - 10s 208us/step - loss: 0.6227 - acc: 0.7774 - val_loss: 1.8798 - val_acc: 0.5073\n",
      "Epoch 52/100\n",
      "50000/50000 [==============================] - 10s 192us/step - loss: 0.6222 - acc: 0.7780 - val_loss: 1.8907 - val_acc: 0.5137\n",
      "Epoch 53/100\n",
      "50000/50000 [==============================] - 9s 182us/step - loss: 0.5895 - acc: 0.7891 - val_loss: 1.9252 - val_acc: 0.5050\n",
      "Epoch 54/100\n",
      "50000/50000 [==============================] - 10s 209us/step - loss: 0.5895 - acc: 0.7905 - val_loss: 1.9323 - val_acc: 0.5086\n",
      "Epoch 55/100\n",
      "50000/50000 [==============================] - 9s 171us/step - loss: 0.5799 - acc: 0.7909 - val_loss: 1.9652 - val_acc: 0.5089\n",
      "Epoch 56/100\n",
      "50000/50000 [==============================] - 8s 169us/step - loss: 0.5568 - acc: 0.8011 - val_loss: 2.0128 - val_acc: 0.5088\n",
      "Epoch 57/100\n",
      "50000/50000 [==============================] - 10s 200us/step - loss: 0.5573 - acc: 0.7983 - val_loss: 2.0313 - val_acc: 0.5056\n",
      "Epoch 58/100\n",
      "50000/50000 [==============================] - 9s 172us/step - loss: 0.5495 - acc: 0.8010 - val_loss: 2.0192 - val_acc: 0.5140\n",
      "Epoch 59/100\n",
      "50000/50000 [==============================] - 10s 192us/step - loss: 0.5276 - acc: 0.8109 - val_loss: 2.0650 - val_acc: 0.5165\n",
      "Epoch 60/100\n",
      "50000/50000 [==============================] - 9s 173us/step - loss: 0.5166 - acc: 0.8141 - val_loss: 2.1084 - val_acc: 0.5090\n",
      "Epoch 61/100\n",
      "50000/50000 [==============================] - 9s 182us/step - loss: 0.5059 - acc: 0.8189 - val_loss: 2.0929 - val_acc: 0.5103\n",
      "Epoch 62/100\n",
      "50000/50000 [==============================] - 10s 193us/step - loss: 0.5039 - acc: 0.8189 - val_loss: 2.1580 - val_acc: 0.5079\n",
      "Epoch 63/100\n",
      "50000/50000 [==============================] - 14s 286us/step - loss: 0.5000 - acc: 0.8202 - val_loss: 2.1851 - val_acc: 0.5074\n",
      "Epoch 64/100\n",
      "50000/50000 [==============================] - 10s 194us/step - loss: 0.4900 - acc: 0.8218 - val_loss: 2.1970 - val_acc: 0.5036\n",
      "Epoch 65/100\n",
      "50000/50000 [==============================] - 11s 222us/step - loss: 0.4750 - acc: 0.8309 - val_loss: 2.2330 - val_acc: 0.5039\n",
      "Epoch 66/100\n",
      "50000/50000 [==============================] - 10s 194us/step - loss: 0.4595 - acc: 0.8347 - val_loss: 2.2774 - val_acc: 0.5102\n",
      "Epoch 67/100\n",
      "50000/50000 [==============================] - 8s 162us/step - loss: 0.4584 - acc: 0.8350 - val_loss: 2.2818 - val_acc: 0.5039\n",
      "Epoch 68/100\n",
      "50000/50000 [==============================] - 10s 193us/step - loss: 0.4606 - acc: 0.8351 - val_loss: 2.3273 - val_acc: 0.5077\n",
      "Epoch 69/100\n",
      "50000/50000 [==============================] - 9s 175us/step - loss: 0.4503 - acc: 0.8381 - val_loss: 2.3383 - val_acc: 0.5032\n",
      "Epoch 70/100\n",
      "50000/50000 [==============================] - 8s 160us/step - loss: 0.4311 - acc: 0.8443 - val_loss: 2.4364 - val_acc: 0.5003\n",
      "Epoch 71/100\n",
      "50000/50000 [==============================] - 9s 186us/step - loss: 0.4347 - acc: 0.8433 - val_loss: 2.4096 - val_acc: 0.5013\n",
      "Epoch 72/100\n",
      "50000/50000 [==============================] - 9s 171us/step - loss: 0.4330 - acc: 0.8431 - val_loss: 2.4466 - val_acc: 0.5059\n",
      "Epoch 73/100\n",
      "50000/50000 [==============================] - 9s 183us/step - loss: 0.4118 - acc: 0.8502 - val_loss: 2.4233 - val_acc: 0.5007\n",
      "Epoch 74/100\n",
      "50000/50000 [==============================] - 9s 172us/step - loss: 0.3877 - acc: 0.8599 - val_loss: 2.4785 - val_acc: 0.5031\n",
      "Epoch 75/100\n",
      "50000/50000 [==============================] - 9s 178us/step - loss: 0.3931 - acc: 0.8587 - val_loss: 2.4867 - val_acc: 0.5053\n",
      "Epoch 76/100\n",
      "50000/50000 [==============================] - 8s 168us/step - loss: 0.3897 - acc: 0.8604 - val_loss: 2.6150 - val_acc: 0.4960\n",
      "Epoch 77/100\n",
      "50000/50000 [==============================] - 9s 171us/step - loss: 0.3946 - acc: 0.8599 - val_loss: 2.5590 - val_acc: 0.5004\n",
      "Epoch 78/100\n",
      "50000/50000 [==============================] - 8s 167us/step - loss: 0.4032 - acc: 0.8553 - val_loss: 2.5956 - val_acc: 0.4989\n",
      "Epoch 79/100\n",
      "50000/50000 [==============================] - 9s 171us/step - loss: 0.3818 - acc: 0.8621 - val_loss: 2.6085 - val_acc: 0.5057\n",
      "Epoch 80/100\n",
      "50000/50000 [==============================] - 8s 166us/step - loss: 0.3742 - acc: 0.8658 - val_loss: 2.6108 - val_acc: 0.5084\n",
      "Epoch 81/100\n",
      "50000/50000 [==============================] - 9s 177us/step - loss: 0.3642 - acc: 0.8693 - val_loss: 2.6530 - val_acc: 0.5041\n",
      "Epoch 82/100\n",
      "50000/50000 [==============================] - 16s 329us/step - loss: 0.3594 - acc: 0.8721 - val_loss: 2.6771 - val_acc: 0.5015\n",
      "Epoch 83/100\n",
      "50000/50000 [==============================] - 10s 191us/step - loss: 0.3763 - acc: 0.8645 - val_loss: 2.7912 - val_acc: 0.4999\n",
      "Epoch 84/100\n",
      "50000/50000 [==============================] - 10s 191us/step - loss: 0.3259 - acc: 0.8835 - val_loss: 2.7651 - val_acc: 0.5019\n",
      "Epoch 85/100\n",
      "50000/50000 [==============================] - 12s 241us/step - loss: 0.3277 - acc: 0.8838 - val_loss: 2.7676 - val_acc: 0.5063\n",
      "Epoch 86/100\n",
      "50000/50000 [==============================] - 11s 229us/step - loss: 0.3287 - acc: 0.8806 - val_loss: 2.7510 - val_acc: 0.5069\n",
      "Epoch 87/100\n",
      "50000/50000 [==============================] - 9s 189us/step - loss: 0.3487 - acc: 0.8738 - val_loss: 2.7732 - val_acc: 0.5027\n",
      "Epoch 88/100\n",
      "50000/50000 [==============================] - 10s 193us/step - loss: 0.3465 - acc: 0.8757 - val_loss: 2.7670 - val_acc: 0.5016\n",
      "Epoch 89/100\n",
      "50000/50000 [==============================] - 9s 172us/step - loss: 0.3270 - acc: 0.8829 - val_loss: 2.8727 - val_acc: 0.4945\n",
      "Epoch 90/100\n",
      "50000/50000 [==============================] - 9s 172us/step - loss: 0.3580 - acc: 0.8715 - val_loss: 2.8206 - val_acc: 0.4971\n",
      "Epoch 91/100\n",
      "50000/50000 [==============================] - 9s 172us/step - loss: 0.3253 - acc: 0.8812 - val_loss: 2.9627 - val_acc: 0.4976\n",
      "Epoch 92/100\n",
      "50000/50000 [==============================] - 9s 171us/step - loss: 0.3170 - acc: 0.8851 - val_loss: 2.8881 - val_acc: 0.4986\n",
      "Epoch 93/100\n",
      "50000/50000 [==============================] - 9s 182us/step - loss: 0.3051 - acc: 0.8909 - val_loss: 2.9562 - val_acc: 0.4968\n",
      "Epoch 94/100\n",
      "50000/50000 [==============================] - 9s 171us/step - loss: 0.3029 - acc: 0.8918 - val_loss: 2.9241 - val_acc: 0.4997\n",
      "Epoch 95/100\n",
      "50000/50000 [==============================] - 9s 173us/step - loss: 0.2877 - acc: 0.8957 - val_loss: 3.0006 - val_acc: 0.4992\n",
      "Epoch 96/100\n",
      "50000/50000 [==============================] - 9s 171us/step - loss: 0.3010 - acc: 0.8911 - val_loss: 3.0692 - val_acc: 0.5020\n",
      "Epoch 97/100\n",
      "50000/50000 [==============================] - 9s 170us/step - loss: 0.3197 - acc: 0.8849 - val_loss: 3.0896 - val_acc: 0.4879\n",
      "Epoch 98/100\n",
      "50000/50000 [==============================] - 9s 183us/step - loss: 0.2926 - acc: 0.8958 - val_loss: 3.0869 - val_acc: 0.4951\n",
      "Epoch 99/100\n",
      "50000/50000 [==============================] - 10s 196us/step - loss: 0.2779 - acc: 0.8988 - val_loss: 3.0652 - val_acc: 0.4974\n",
      "Epoch 100/100\n",
      "50000/50000 [==============================] - 9s 187us/step - loss: 0.2853 - acc: 0.8980 - val_loss: 3.0616 - val_acc: 0.5035\n"
     ]
    },
    {
     "data": {
      "text/plain": [
       "<keras.callbacks.History at 0xb2ac60be0>"
      ]
     },
     "execution_count": 6,
     "metadata": {},
     "output_type": "execute_result"
    }
   ],
   "source": [
    "# 訓練模型並檢視驗證集的結果\n",
    "model.fit(x_train, y_train, \n",
    "          epochs=100, \n",
    "          batch_size=256, \n",
    "          validation_data=(x_test, y_test), \n",
    "          shuffle=True)"
   ]
  },
  {
   "cell_type": "code",
   "execution_count": 8,
   "metadata": {},
   "outputs": [
    {
     "data": {
      "image/png": "[encoded data removed]",
      "text/plain": [
       "<matplotlib.figure.Figure at 0xb376379e8>"
      ]
     },
     "metadata": {},
     "output_type": "display_data"
    },
    {
     "data": {
      "image/png": "[encoded data removed]",
      "text/plain": [
       "<matplotlib.figure.Figure at 0xb376b2dd8>"
      ]
     },
     "metadata": {},
     "output_type": "display_data"
    }
   ],
   "source": [
    "# 以視覺畫方式檢視訓練過程\n",
    "import matplotlib.pyplot as plt\n",
    "train_loss = model.history.history[\"loss\"]\n",
    "valid_loss = model.history.history[\"val_loss\"]\n",
    "\n",
    "train_acc = model.history.history[\"acc\"]\n",
    "valid_acc = model.history.history[\"val_acc\"]\n",
    "\n",
    "plt.plot(range(len(train_loss)), train_loss, label=\"train loss\")\n",
    "plt.plot(range(len(valid_loss)), valid_loss, label=\"valid loss\")\n",
    "plt.legend()\n",
    "plt.title(\"Loss\")\n",
    "plt.show()\n",
    "\n",
    "plt.plot(range(len(train_acc)), train_acc, label=\"train accuracy\")\n",
    "plt.plot(range(len(valid_acc)), valid_acc, label=\"valid accuracy\")\n",
    "plt.legend()\n",
    "plt.title(\"Accuracy\")\n",
    "plt.show()"
   ]
  },
  {
   "cell_type": "markdown",
   "metadata": {},
   "source": [
    "## 作業\n",
    "1. 請將 Epoch 加到 500 個，並觀察 learning curve 的走勢\n",
    "2. 請將 Optimizer 換成 SGD，並觀察 learning curve 的走勢"
   ]
  }
 ],
 "metadata": {
  "kernelspec": {
   "display_name": "Python 3",
   "language": "python",
   "name": "python3"
  },
  "language_info": {
   "codemirror_mode": {
    "name": "ipython",
    "version": 3
   },
   "file_extension": ".py",
   "mimetype": "text/x-python",
   "name": "python",
   "nbconvert_exporter": "python",
   "pygments_lexer": "ipython3",
   "version": "3.6.4"
  }
 },
 "nbformat": 4,
 "nbformat_minor": 2
}
